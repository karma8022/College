{
 "cells": [
  {
   "cell_type": "code",
   "execution_count": 28,
   "id": "5c452016-167e-48cf-aea3-830e98689bcb",
   "metadata": {
    "tags": []
   },
   "outputs": [
    {
     "name": "stdin",
     "output_type": "stream",
     "text": [
      "Enter marks for subject 1 30\n",
      "Enter marks for subject 2 20\n",
      "Enter marks for subject 3 60\n"
     ]
    },
    {
     "name": "stdout",
     "output_type": "stream",
     "text": [
      "[50, 50, 29]\n",
      "Pass\n",
      "Pass\n",
      "Fail\n"
     ]
    }
   ],
   "source": [
    "class student:\n",
    "    marks_to_pass = 30\n",
    "    \n",
    "    def check(self):\n",
    "        self.x=int(input(\"Enter marks for subject 1\"))\n",
    "        self.y=int(input(\"Enter marks for subject 2\"))\n",
    "        self.z=int(input(\"Enter marks for subject 3\"))\n",
    "        a = [x,y,z]\n",
    "        print(a)\n",
    "        for i in a:\n",
    "            if i < stud.marks_to_pass:\n",
    "                print(\"Fail\")\n",
    "            else:\n",
    "                print(\"Pass\")\n",
    "stud = student()\n",
    "stud.check()\n"
   ]
  },
  {
   "cell_type": "code",
   "execution_count": 13,
   "id": "92188edf-b990-4900-8be4-48857abfb3bf",
   "metadata": {
    "tags": []
   },
   "outputs": [
    {
     "name": "stdout",
     "output_type": "stream",
     "text": [
      "Hey\n"
     ]
    }
   ],
   "source": [
    "class person:\n",
    "    def say_hi(self):\n",
    "        print(\"Hey\")\n",
    "p = person()\n",
    "p.say_hi()"
   ]
  },
  {
   "cell_type": "code",
   "execution_count": 16,
   "id": "d7fa1122-72ac-43f2-8bdf-cf83bd31ecee",
   "metadata": {
    "tags": []
   },
   "outputs": [
    {
     "name": "stdout",
     "output_type": "stream",
     "text": [
      "Ramesh 23 53040\n"
     ]
    }
   ],
   "source": [
    "class employee:\n",
    "    def set_data(self,n,a,s):\n",
    "        self.name=n\n",
    "        self.age=a\n",
    "        self.salary=s\n",
    "    def display_data(self):\n",
    "        print(self.name,self.age,self.salary)\n",
    "\n",
    "e1 = employee()\n",
    "e1.set_data('Ramesh',23,53040)\n",
    "e1.display_data()"
   ]
  },
  {
   "cell_type": "code",
   "execution_count": null,
   "id": "f0762df4-9190-4541-b884-f5cca33a2340",
   "metadata": {
    "tags": []
   },
   "outputs": [],
   "source": []
  }
 ],
 "metadata": {
  "kernelspec": {
   "display_name": "Python 3 (ipykernel)",
   "language": "python",
   "name": "python3"
  },
  "language_info": {
   "codemirror_mode": {
    "name": "ipython",
    "version": 3
   },
   "file_extension": ".py",
   "mimetype": "text/x-python",
   "name": "python",
   "nbconvert_exporter": "python",
   "pygments_lexer": "ipython3",
   "version": "3.10.7"
  }
 },
 "nbformat": 4,
 "nbformat_minor": 5
}
