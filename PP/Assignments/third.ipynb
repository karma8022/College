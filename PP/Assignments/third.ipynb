{
 "cells": [
  {
   "cell_type": "code",
   "execution_count": 1,
   "metadata": {},
   "outputs": [
    {
     "name": "stdout",
     "output_type": "stream",
     "text": [
      "11\n"
     ]
    }
   ],
   "source": [
    "def add_number(x,y):\n",
    "    sum = x+y \n",
    "    return sum\n",
    "\n",
    "num1 = 5\n",
    "num2 = 6\n",
    "\n",
    "print(add_number(num1,num2))\n"
   ]
  },
  {
   "cell_type": "code",
   "execution_count": 2,
   "metadata": {},
   "outputs": [
    {
     "name": "stdout",
     "output_type": "stream",
     "text": [
      "16\n"
     ]
    }
   ],
   "source": [
    "def sqnum(x,y):\n",
    "    return(x*x+2*x*y+y*y)\n",
    "\n",
    "print(sqnum(2,2))"
   ]
  },
  {
   "cell_type": "code",
   "execution_count": 7,
   "metadata": {},
   "outputs": [
    {
     "name": "stdout",
     "output_type": "stream",
     "text": [
      "7.5\n"
     ]
    }
   ],
   "source": [
    "def average(x,y):\n",
    "    return((x+y)/2)\n",
    "\n",
    "x=8\n",
    "y=7\n",
    "print(average(x,y))"
   ]
  },
  {
   "cell_type": "code",
   "execution_count": 15,
   "metadata": {},
   "outputs": [
    {
     "name": "stdout",
     "output_type": "stream",
     "text": [
      "(<class 'IndexError'>, IndexError('list index out of range'), <traceback object at 0x000001CD847A0B00>)\n",
      "(<class 'TypeError'>, TypeError('list indices must be integers or slices, not float'), <traceback object at 0x000001CD847A0B00>)\n",
      "(<class 'TypeError'>, TypeError('list indices must be integers or slices, not str'), <traceback object at 0x000001CD847A0B00>)\n",
      "(<class 'ZeroDivisionError'>, ZeroDivisionError('division by zero'), <traceback object at 0x000001CD847A0B00>)\n",
      "0.1\n"
     ]
    }
   ],
   "source": [
    "import sys\n",
    "l1=[10,5.3,'x',4,0]\n",
    "for i in list(l1):\n",
    "    try:\n",
    "        print(1/l1[i])\n",
    "    except Exception:\n",
    "        print(sys.exc_info())\n",
    "\n",
    "    \n"
   ]
  },
  {
   "cell_type": "code",
   "execution_count": null,
   "metadata": {},
   "outputs": [],
   "source": []
  }
 ],
 "metadata": {
  "kernelspec": {
   "display_name": "Python 3",
   "language": "python",
   "name": "python3"
  },
  "language_info": {
   "codemirror_mode": {
    "name": "ipython",
    "version": 3
   },
   "file_extension": ".py",
   "mimetype": "text/x-python",
   "name": "python",
   "nbconvert_exporter": "python",
   "pygments_lexer": "ipython3",
   "version": "3.10.7"
  },
  "orig_nbformat": 4,
  "vscode": {
   "interpreter": {
    "hash": "7cde7c767c5cecd86810b405553dad97b20f9b44e3b28d53ca5804663d48da85"
   }
  }
 },
 "nbformat": 4,
 "nbformat_minor": 2
}
